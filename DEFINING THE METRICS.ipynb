{
 "cells": [
  {
   "cell_type": "code",
   "execution_count": 1,
   "id": "c313080c",
   "metadata": {},
   "outputs": [],
   "source": [
    "#importing the necessary libraries"
   ]
  },
  {
   "cell_type": "code",
   "execution_count": 2,
   "id": "b71b3673",
   "metadata": {},
   "outputs": [],
   "source": [
    "import pandas as pd\n",
    "import numpy as np\n",
    "import matplotlib.pyplot as plt\n",
    "import seaborn as sns"
   ]
  },
  {
   "cell_type": "code",
   "execution_count": 3,
   "id": "4b1e74c1",
   "metadata": {},
   "outputs": [],
   "source": [
    "df=pd.read_csv('kiva_loans.csv')"
   ]
  },
  {
   "cell_type": "code",
   "execution_count": 5,
   "id": "0c9a03fd",
   "metadata": {},
   "outputs": [
    {
     "data": {
      "text/html": [
       "<div>\n",
       "<style scoped>\n",
       "    .dataframe tbody tr th:only-of-type {\n",
       "        vertical-align: middle;\n",
       "    }\n",
       "\n",
       "    .dataframe tbody tr th {\n",
       "        vertical-align: top;\n",
       "    }\n",
       "\n",
       "    .dataframe thead th {\n",
       "        text-align: right;\n",
       "    }\n",
       "</style>\n",
       "<table border=\"1\" class=\"dataframe\">\n",
       "  <thead>\n",
       "    <tr style=\"text-align: right;\">\n",
       "      <th></th>\n",
       "      <th>id</th>\n",
       "      <th>funded_amount</th>\n",
       "      <th>loan_amount</th>\n",
       "      <th>activity</th>\n",
       "      <th>sector</th>\n",
       "      <th>use</th>\n",
       "      <th>country_code</th>\n",
       "      <th>country</th>\n",
       "      <th>region</th>\n",
       "      <th>currency</th>\n",
       "      <th>partner_id</th>\n",
       "      <th>posted_time</th>\n",
       "      <th>disbursed_time</th>\n",
       "      <th>funded_time</th>\n",
       "      <th>term_in_months</th>\n",
       "      <th>lender_count</th>\n",
       "      <th>tags</th>\n",
       "      <th>borrower_genders</th>\n",
       "      <th>repayment_interval</th>\n",
       "      <th>date</th>\n",
       "    </tr>\n",
       "  </thead>\n",
       "  <tbody>\n",
       "    <tr>\n",
       "      <th>0</th>\n",
       "      <td>653051</td>\n",
       "      <td>300.0</td>\n",
       "      <td>300.0</td>\n",
       "      <td>Fruits &amp; Vegetables</td>\n",
       "      <td>Food</td>\n",
       "      <td>To buy seasonal, fresh fruits to sell.</td>\n",
       "      <td>PK</td>\n",
       "      <td>Pakistan</td>\n",
       "      <td>Lahore</td>\n",
       "      <td>PKR</td>\n",
       "      <td>247.0</td>\n",
       "      <td>2014-01-01 06:12:39+00:00</td>\n",
       "      <td>2013-12-17 08:00:00+00:00</td>\n",
       "      <td>2014-01-02 10:06:32+00:00</td>\n",
       "      <td>12.0</td>\n",
       "      <td>12</td>\n",
       "      <td>NaN</td>\n",
       "      <td>female</td>\n",
       "      <td>irregular</td>\n",
       "      <td>2014-01-01</td>\n",
       "    </tr>\n",
       "    <tr>\n",
       "      <th>1</th>\n",
       "      <td>653053</td>\n",
       "      <td>575.0</td>\n",
       "      <td>575.0</td>\n",
       "      <td>Rickshaw</td>\n",
       "      <td>Transportation</td>\n",
       "      <td>to repair and maintain the auto rickshaw used ...</td>\n",
       "      <td>PK</td>\n",
       "      <td>Pakistan</td>\n",
       "      <td>Lahore</td>\n",
       "      <td>PKR</td>\n",
       "      <td>247.0</td>\n",
       "      <td>2014-01-01 06:51:08+00:00</td>\n",
       "      <td>2013-12-17 08:00:00+00:00</td>\n",
       "      <td>2014-01-02 09:17:23+00:00</td>\n",
       "      <td>11.0</td>\n",
       "      <td>14</td>\n",
       "      <td>NaN</td>\n",
       "      <td>female, female</td>\n",
       "      <td>irregular</td>\n",
       "      <td>2014-01-01</td>\n",
       "    </tr>\n",
       "    <tr>\n",
       "      <th>2</th>\n",
       "      <td>653068</td>\n",
       "      <td>150.0</td>\n",
       "      <td>150.0</td>\n",
       "      <td>Transportation</td>\n",
       "      <td>Transportation</td>\n",
       "      <td>To repair their old cycle-van and buy another ...</td>\n",
       "      <td>IN</td>\n",
       "      <td>India</td>\n",
       "      <td>Maynaguri</td>\n",
       "      <td>INR</td>\n",
       "      <td>334.0</td>\n",
       "      <td>2014-01-01 09:58:07+00:00</td>\n",
       "      <td>2013-12-17 08:00:00+00:00</td>\n",
       "      <td>2014-01-01 16:01:36+00:00</td>\n",
       "      <td>43.0</td>\n",
       "      <td>6</td>\n",
       "      <td>user_favorite, user_favorite</td>\n",
       "      <td>female</td>\n",
       "      <td>bullet</td>\n",
       "      <td>2014-01-01</td>\n",
       "    </tr>\n",
       "  </tbody>\n",
       "</table>\n",
       "</div>"
      ],
      "text/plain": [
       "       id  funded_amount  loan_amount             activity          sector  \\\n",
       "0  653051          300.0        300.0  Fruits & Vegetables            Food   \n",
       "1  653053          575.0        575.0             Rickshaw  Transportation   \n",
       "2  653068          150.0        150.0       Transportation  Transportation   \n",
       "\n",
       "                                                 use country_code   country  \\\n",
       "0            To buy seasonal, fresh fruits to sell.            PK  Pakistan   \n",
       "1  to repair and maintain the auto rickshaw used ...           PK  Pakistan   \n",
       "2  To repair their old cycle-van and buy another ...           IN     India   \n",
       "\n",
       "      region currency  partner_id                posted_time  \\\n",
       "0     Lahore      PKR       247.0  2014-01-01 06:12:39+00:00   \n",
       "1     Lahore      PKR       247.0  2014-01-01 06:51:08+00:00   \n",
       "2  Maynaguri      INR       334.0  2014-01-01 09:58:07+00:00   \n",
       "\n",
       "              disbursed_time                funded_time  term_in_months  \\\n",
       "0  2013-12-17 08:00:00+00:00  2014-01-02 10:06:32+00:00            12.0   \n",
       "1  2013-12-17 08:00:00+00:00  2014-01-02 09:17:23+00:00            11.0   \n",
       "2  2013-12-17 08:00:00+00:00  2014-01-01 16:01:36+00:00            43.0   \n",
       "\n",
       "   lender_count                          tags borrower_genders  \\\n",
       "0            12                           NaN           female   \n",
       "1            14                           NaN   female, female   \n",
       "2             6  user_favorite, user_favorite           female   \n",
       "\n",
       "  repayment_interval        date  \n",
       "0          irregular  2014-01-01  \n",
       "1          irregular  2014-01-01  \n",
       "2             bullet  2014-01-01  "
      ]
     },
     "execution_count": 5,
     "metadata": {},
     "output_type": "execute_result"
    }
   ],
   "source": [
    "df.head(3)"
   ]
  },
  {
   "cell_type": "markdown",
   "id": "618cd28a",
   "metadata": {},
   "source": [
    "#### 1. Define 2-3 metrics that can be generated using the existing datasets. Explain why you've chosen each metric and the pros and cons of their usage. "
   ]
  },
  {
   "cell_type": "code",
   "execution_count": 6,
   "id": "b3c5d796",
   "metadata": {},
   "outputs": [
    {
     "data": {
      "text/plain": [
       "Index(['id', 'funded_amount', 'loan_amount', 'activity', 'sector', 'use',\n",
       "       'country_code', 'country', 'region', 'currency', 'partner_id',\n",
       "       'posted_time', 'disbursed_time', 'funded_time', 'term_in_months',\n",
       "       'lender_count', 'tags', 'borrower_genders', 'repayment_interval',\n",
       "       'date'],\n",
       "      dtype='object')"
      ]
     },
     "execution_count": 6,
     "metadata": {},
     "output_type": "execute_result"
    }
   ],
   "source": [
    "df.columns"
   ]
  },
  {
   "cell_type": "raw",
   "id": "2181281e",
   "metadata": {},
   "source": [
    "1.Loan Repayment Rate:\n",
    "\n",
    "- This metrics can provide insights into the performance and impact of Kiva's loans.It measures the percentage of loans that are successfully repaid by borrowers.\n",
    "- it can be calculated by dividing the number of defaulted loans by the total number of loans.\n",
    "\n",
    "Pros:\n",
    "-LRR is a key metric for assessing the performance and sustainability of a microfinance institution or lending platform. A high LRR indicates that a significant percentage of loans are being repaid, which is essential for the financial health of the organization.\n",
    "\n",
    "Cons:\n",
    "-LRR doesn't provide context about why loans may not be repaid. For instance, if borrowers are facing economic hardships beyond their control, a lower LRR may not necessarily reflect their repayment intentions."
   ]
  },
  {
   "cell_type": "raw",
   "id": "b9e587f3",
   "metadata": {},
   "source": [
    "2.Lender Participation Rate:\n",
    "\n",
    "-It measures the average number of lenders per loan in the context of Kiva's lending platform. It can provide valuable insights into how actively lenders are participating in funding loans on the platform.\n",
    "\n",
    "Pros:\n",
    "-A high lender participation rate can attract more borrowers and partners to the platform. Borrowers are more likely to seek loans on a platform where they see active lending activity.\n",
    "\n",
    "- Kiva can use the lender participation rate as one of the indicators to assess the impact of its platform. A growing rate may suggest that Kiva is reaching more lenders and borrowers, potentially leading to increased socio-economic impact.\n",
    "\n",
    "Cons:\n",
    "- While a high lender participation rate is positive, focusing solely on this metric may lead to an over emphasis on the quantity of lenders rather than the quality of the loans and borrowers. Quality should not be sacrificed for quantity."
   ]
  },
  {
   "cell_type": "raw",
   "id": "454ed0c3",
   "metadata": {},
   "source": [
    "3.Loan Amount by Country:\n",
    "Loan Amount by Country is a metric that calculates the total loan amount disbursed to borrowers in each country where Kiva operates. This metric can provide valuable insights into Kiva's lending activities on a country-by-country basis.\n",
    "\n",
    "Pros:\n",
    "-It allows Kiva to assess its lending performance in different countries. A higher loan amount may indicate a higher level of engagement and lending activity in a particular country.\n",
    "-Kiva can make strategic decisions based on this metric. For example, it can prioritize countries with lower loan amounts for growth strategies and expansion.\n",
    "\n",
    "Cons:\n",
    "-Loan amounts can vary significantly due to differences in currency exchange rates. A higher loan amount in one country may not necessarily indicate greater lending activity in terms of impact or scale."
   ]
  }
 ],
 "metadata": {
  "kernelspec": {
   "display_name": "Python 3 (ipykernel)",
   "language": "python",
   "name": "python3"
  },
  "language_info": {
   "codemirror_mode": {
    "name": "ipython",
    "version": 3
   },
   "file_extension": ".py",
   "mimetype": "text/x-python",
   "name": "python",
   "nbconvert_exporter": "python",
   "pygments_lexer": "ipython3",
   "version": "3.10.9"
  }
 },
 "nbformat": 4,
 "nbformat_minor": 5
}
